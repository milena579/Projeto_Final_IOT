{
 "cells": [
  {
   "cell_type": "code",
   "execution_count": 2,
   "metadata": {},
   "outputs": [],
   "source": [
    "from ultralytics import YOLO"
   ]
  },
  {
   "cell_type": "code",
   "execution_count": null,
   "metadata": {},
   "outputs": [],
   "source": [
    "model = YOLO(\"yolov8m.pt\")"
   ]
  },
  {
   "cell_type": "code",
   "execution_count": null,
   "metadata": {},
   "outputs": [],
   "source": [
    "model.train(data=\"data.yaml\",epochs=100)"
   ]
  },
  {
   "cell_type": "code",
   "execution_count": 3,
   "metadata": {},
   "outputs": [],
   "source": [
    "model = YOLO(\"last.pt\")"
   ]
  },
  {
   "cell_type": "code",
   "execution_count": 4,
   "metadata": {},
   "outputs": [
    {
     "name": "stdout",
     "output_type": "stream",
     "text": [
      "\n",
      "image 1/1 c:\\Users\\juand\\Desktop\\Projetos\\Projeto_Final_IOT\\ToolsClassifierYolo\\final.jpg: 640x384 1 hammer, 1 pliers, 1 screwdriver, 2 wrenchs, 439.4ms\n",
      "Speed: 21.5ms preprocess, 439.4ms inference, 14.0ms postprocess per image at shape (1, 3, 640, 384)\n",
      "{0: 'hammer', 1: 'pliers', 2: 'screwdriver', 3: 'wrench'}\n",
      "tensor([3.]) tensor([0.9493])\n",
      "tensor([1.]) tensor([0.9486])\n",
      "tensor([0.]) tensor([0.9412])\n",
      "tensor([2.]) tensor([0.9349])\n",
      "tensor([3.]) tensor([0.7892])\n"
     ]
    }
   ],
   "source": [
    "result = model.predict(\"final.jpg\")\n",
    "\n",
    "print(result[0].names)\n",
    "\n",
    "for box in  result[0].boxes:\n",
    "    print(box.cls,box.conf)\n",
    "\n"
   ]
  }
 ],
 "metadata": {
  "kernelspec": {
   "display_name": "Python 3",
   "language": "python",
   "name": "python3"
  },
  "language_info": {
   "codemirror_mode": {
    "name": "ipython",
    "version": 3
   },
   "file_extension": ".py",
   "mimetype": "text/x-python",
   "name": "python",
   "nbconvert_exporter": "python",
   "pygments_lexer": "ipython3",
   "version": "3.12.7"
  }
 },
 "nbformat": 4,
 "nbformat_minor": 2
}
