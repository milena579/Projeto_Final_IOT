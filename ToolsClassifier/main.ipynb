{
 "cells": [
  {
   "cell_type": "code",
   "execution_count": 1,
   "metadata": {},
   "outputs": [],
   "source": [
    "from tensorflow.keras import models, layers, activations, \\\n",
    "    optimizers, utils, losses, initializers, metrics, callbacks"
   ]
  },
  {
   "cell_type": "code",
   "execution_count": 2,
   "metadata": {},
   "outputs": [],
   "source": [
    "epochs = 100\n",
    "batch_size = 32\n",
    "patience = 3\n",
    "learning_rate = 0.01\n",
    "model_path = './model/sigmoid.keras'"
   ]
  },
  {
   "cell_type": "code",
   "execution_count": 3,
   "metadata": {},
   "outputs": [],
   "source": [
    "model = models.Sequential([\n",
    "    layers.Resizing(128,128),\n",
    "    layers.Rescaling(1.0/255),\n",
    "    layers.BatchNormalization(),\n",
    "\n",
    "    layers.Conv2D(32,(5,5),\n",
    "        activation='relu',\n",
    "        kernel_initializer = initializers.RandomNormal()\n",
    "    ),\n",
    "    layers.MaxPooling2D((2,2)),\n",
    "    layers.BatchNormalization(),\n",
    "    \n",
    "    layers.Conv2D(64,(3,3),\n",
    "        activation='relu',\n",
    "        kernel_initializer = initializers.RandomNormal()\n",
    "    ),\n",
    "    layers.MaxPooling2D((2,2)),\n",
    "    layers.BatchNormalization(),\n",
    "\n",
    "    layers.Conv2D(128,(3,3),\n",
    "        activation='relu',\n",
    "        kernel_initializer = initializers.RandomNormal()\n",
    "    ),\n",
    "    layers.MaxPooling2D((2,2)),\n",
    "    layers.BatchNormalization(),\n",
    "\n",
    "    layers.Flatten(),\n",
    "    layers.Dropout(0.5),\n",
    "    layers.Dense(128,\n",
    "        activation = 'tanh',\n",
    "        kernel_initializer = initializers.RandomNormal()\n",
    "    ),\n",
    "    layers.Dense(64,\n",
    "        activation = 'tanh',\n",
    "        kernel_initializer = initializers.RandomNormal()\n",
    "    ),\n",
    "    layers.Dense(32,\n",
    "        activation = 'tanh',\n",
    "        kernel_initializer = initializers.RandomNormal()\n",
    "    ),\n",
    "    layers.Dense(5,\n",
    "        activation = 'softmax',\n",
    "        kernel_initializer = initializers.RandomNormal()\n",
    "    )\n",
    "])"
   ]
  },
  {
   "cell_type": "code",
   "execution_count": 4,
   "metadata": {},
   "outputs": [],
   "source": [
    "model.compile(\n",
    "    optimizer = optimizers.Adam(\n",
    "        learning_rate = learning_rate\n",
    "    ),\n",
    "    loss = losses.SparseCategoricalCrossentropy(),\n",
    "    metrics=[metrics.SparseCategoricalAccuracy(name=\"accuracy\")]\n",
    ")"
   ]
  },
  {
   "cell_type": "code",
   "execution_count": 5,
   "metadata": {},
   "outputs": [
    {
     "name": "stdout",
     "output_type": "stream",
     "text": [
      "Found 3276 files belonging to 5 classes.\n",
      "Using 2621 files for training.\n",
      "Found 3276 files belonging to 5 classes.\n",
      "Using 655 files for validation.\n"
     ]
    },
    {
     "data": {
      "text/plain": [
       "['hammer', 'nothing', 'pliers', 'screwdriver', 'wrench']"
      ]
     },
     "execution_count": 5,
     "metadata": {},
     "output_type": "execute_result"
    }
   ],
   "source": [
    "train = utils.image_dataset_from_directory(\n",
    "    'Data',\n",
    "    validation_split = 0.2,\n",
    "    subset = 'training',\n",
    "    seed = 123,\n",
    "    shuffle = True,\n",
    "    image_size = (512, 512),\n",
    "    batch_size = 32\n",
    ")\n",
    "test =  utils.image_dataset_from_directory(\n",
    "    'Data',\n",
    "    validation_split = 0.2,\n",
    "    subset = 'validation',\n",
    "    seed = 123,\n",
    "    shuffle = True,\n",
    "    image_size = (512, 512),\n",
    "    batch_size = 32\n",
    ")\n",
    "train.class_names\n"
   ]
  },
  {
   "cell_type": "code",
   "execution_count": 6,
   "metadata": {},
   "outputs": [
    {
     "name": "stdout",
     "output_type": "stream",
     "text": [
      "Epoch 1/100\n",
      "\u001b[1m82/82\u001b[0m \u001b[32m━━━━━━━━━━━━━━━━━━━━\u001b[0m\u001b[37m\u001b[0m \u001b[1m47s\u001b[0m 447ms/step - accuracy: 0.2901 - loss: 1.5649 - val_accuracy: 0.1542 - val_loss: 1.6025\n",
      "Epoch 2/100\n",
      "\u001b[1m82/82\u001b[0m \u001b[32m━━━━━━━━━━━━━━━━━━━━\u001b[0m\u001b[37m\u001b[0m \u001b[1m37s\u001b[0m 451ms/step - accuracy: 0.3821 - loss: 1.4517 - val_accuracy: 0.1618 - val_loss: 1.6305\n",
      "Epoch 3/100\n",
      "\u001b[1m82/82\u001b[0m \u001b[32m━━━━━━━━━━━━━━━━━━━━\u001b[0m\u001b[37m\u001b[0m \u001b[1m40s\u001b[0m 439ms/step - accuracy: 0.4303 - loss: 1.3516 - val_accuracy: 0.3405 - val_loss: 1.3600\n",
      "Epoch 4/100\n",
      "\u001b[1m82/82\u001b[0m \u001b[32m━━━━━━━━━━━━━━━━━━━━\u001b[0m\u001b[37m\u001b[0m \u001b[1m40s\u001b[0m 423ms/step - accuracy: 0.4949 - loss: 1.2694 - val_accuracy: 0.4214 - val_loss: 1.2575\n",
      "Epoch 5/100\n",
      "\u001b[1m82/82\u001b[0m \u001b[32m━━━━━━━━━━━━━━━━━━━━\u001b[0m\u001b[37m\u001b[0m \u001b[1m36s\u001b[0m 437ms/step - accuracy: 0.5023 - loss: 1.2182 - val_accuracy: 0.4641 - val_loss: 1.2082\n",
      "Epoch 6/100\n",
      "\u001b[1m82/82\u001b[0m \u001b[32m━━━━━━━━━━━━━━━━━━━━\u001b[0m\u001b[37m\u001b[0m \u001b[1m40s\u001b[0m 426ms/step - accuracy: 0.5079 - loss: 1.1911 - val_accuracy: 0.4870 - val_loss: 1.1668\n",
      "Epoch 7/100\n",
      "\u001b[1m82/82\u001b[0m \u001b[32m━━━━━━━━━━━━━━━━━━━━\u001b[0m\u001b[37m\u001b[0m \u001b[1m36s\u001b[0m 441ms/step - accuracy: 0.5163 - loss: 1.1510 - val_accuracy: 0.5053 - val_loss: 1.1385\n",
      "Epoch 8/100\n",
      "\u001b[1m82/82\u001b[0m \u001b[32m━━━━━━━━━━━━━━━━━━━━\u001b[0m\u001b[37m\u001b[0m \u001b[1m36s\u001b[0m 440ms/step - accuracy: 0.5315 - loss: 1.1248 - val_accuracy: 0.5084 - val_loss: 1.1172\n",
      "Epoch 9/100\n",
      "\u001b[1m82/82\u001b[0m \u001b[32m━━━━━━━━━━━━━━━━━━━━\u001b[0m\u001b[37m\u001b[0m \u001b[1m40s\u001b[0m 490ms/step - accuracy: 0.5593 - loss: 1.0913 - val_accuracy: 0.5130 - val_loss: 1.0942\n",
      "Epoch 10/100\n",
      "\u001b[1m82/82\u001b[0m \u001b[32m━━━━━━━━━━━━━━━━━━━━\u001b[0m\u001b[37m\u001b[0m \u001b[1m38s\u001b[0m 463ms/step - accuracy: 0.5558 - loss: 1.0591 - val_accuracy: 0.5374 - val_loss: 1.0793\n",
      "Epoch 11/100\n",
      "\u001b[1m82/82\u001b[0m \u001b[32m━━━━━━━━━━━━━━━━━━━━\u001b[0m\u001b[37m\u001b[0m \u001b[1m39s\u001b[0m 477ms/step - accuracy: 0.5685 - loss: 1.0344 - val_accuracy: 0.5389 - val_loss: 1.0632\n",
      "Epoch 12/100\n",
      "\u001b[1m82/82\u001b[0m \u001b[32m━━━━━━━━━━━━━━━━━━━━\u001b[0m\u001b[37m\u001b[0m \u001b[1m40s\u001b[0m 485ms/step - accuracy: 0.5813 - loss: 1.0130 - val_accuracy: 0.5450 - val_loss: 1.0509\n",
      "Epoch 13/100\n",
      "\u001b[1m82/82\u001b[0m \u001b[32m━━━━━━━━━━━━━━━━━━━━\u001b[0m\u001b[37m\u001b[0m \u001b[1m37s\u001b[0m 445ms/step - accuracy: 0.6007 - loss: 0.9816 - val_accuracy: 0.5450 - val_loss: 1.0298\n",
      "Epoch 14/100\n",
      "\u001b[1m82/82\u001b[0m \u001b[32m━━━━━━━━━━━━━━━━━━━━\u001b[0m\u001b[37m\u001b[0m \u001b[1m36s\u001b[0m 435ms/step - accuracy: 0.6275 - loss: 0.9521 - val_accuracy: 0.5557 - val_loss: 1.0435\n",
      "Epoch 15/100\n",
      "\u001b[1m82/82\u001b[0m \u001b[32m━━━━━━━━━━━━━━━━━━━━\u001b[0m\u001b[37m\u001b[0m \u001b[1m35s\u001b[0m 432ms/step - accuracy: 0.6346 - loss: 0.9312 - val_accuracy: 0.5679 - val_loss: 1.0142\n",
      "Epoch 16/100\n",
      "\u001b[1m82/82\u001b[0m \u001b[32m━━━━━━━━━━━━━━━━━━━━\u001b[0m\u001b[37m\u001b[0m \u001b[1m36s\u001b[0m 436ms/step - accuracy: 0.6662 - loss: 0.8922 - val_accuracy: 0.5847 - val_loss: 1.0176\n",
      "Epoch 17/100\n",
      "\u001b[1m82/82\u001b[0m \u001b[32m━━━━━━━━━━━━━━━━━━━━\u001b[0m\u001b[37m\u001b[0m \u001b[1m41s\u001b[0m 431ms/step - accuracy: 0.6704 - loss: 0.8635 - val_accuracy: 0.5832 - val_loss: 0.9981\n",
      "Epoch 18/100\n",
      "\u001b[1m82/82\u001b[0m \u001b[32m━━━━━━━━━━━━━━━━━━━━\u001b[0m\u001b[37m\u001b[0m \u001b[1m40s\u001b[0m 485ms/step - accuracy: 0.6798 - loss: 0.8528 - val_accuracy: 0.5908 - val_loss: 0.9790\n",
      "Epoch 19/100\n",
      "\u001b[1m82/82\u001b[0m \u001b[32m━━━━━━━━━━━━━━━━━━━━\u001b[0m\u001b[37m\u001b[0m \u001b[1m36s\u001b[0m 443ms/step - accuracy: 0.6888 - loss: 0.8307 - val_accuracy: 0.6015 - val_loss: 0.9837\n",
      "Epoch 20/100\n",
      "\u001b[1m82/82\u001b[0m \u001b[32m━━━━━━━━━━━━━━━━━━━━\u001b[0m\u001b[37m\u001b[0m \u001b[1m36s\u001b[0m 434ms/step - accuracy: 0.7071 - loss: 0.7898 - val_accuracy: 0.5710 - val_loss: 1.0011\n",
      "Epoch 21/100\n",
      "\u001b[1m82/82\u001b[0m \u001b[32m━━━━━━━━━━━━━━━━━━━━\u001b[0m\u001b[37m\u001b[0m \u001b[1m36s\u001b[0m 435ms/step - accuracy: 0.7235 - loss: 0.7724 - val_accuracy: 0.5817 - val_loss: 0.9681\n",
      "Epoch 22/100\n",
      "\u001b[1m82/82\u001b[0m \u001b[32m━━━━━━━━━━━━━━━━━━━━\u001b[0m\u001b[37m\u001b[0m \u001b[1m36s\u001b[0m 435ms/step - accuracy: 0.7322 - loss: 0.7523 - val_accuracy: 0.5771 - val_loss: 0.9788\n",
      "Epoch 23/100\n",
      "\u001b[1m82/82\u001b[0m \u001b[32m━━━━━━━━━━━━━━━━━━━━\u001b[0m\u001b[37m\u001b[0m \u001b[1m36s\u001b[0m 433ms/step - accuracy: 0.7401 - loss: 0.7226 - val_accuracy: 0.5832 - val_loss: 0.9909\n",
      "Epoch 24/100\n",
      "\u001b[1m82/82\u001b[0m \u001b[32m━━━━━━━━━━━━━━━━━━━━\u001b[0m\u001b[37m\u001b[0m \u001b[1m36s\u001b[0m 436ms/step - accuracy: 0.7303 - loss: 0.7180 - val_accuracy: 0.5954 - val_loss: 0.9935\n",
      "Epoch 24: early stopping\n"
     ]
    },
    {
     "data": {
      "text/plain": [
       "<keras.src.callbacks.history.History at 0x27f7f0fea20>"
      ]
     },
     "execution_count": 6,
     "metadata": {},
     "output_type": "execute_result"
    }
   ],
   "source": [
    "model.fit(train,\n",
    "    epochs = epochs,\n",
    "    validation_data = test,\n",
    "    callbacks= [\n",
    "        callbacks.EarlyStopping(\n",
    "            monitor = 'val_loss',\n",
    "            patience = patience,\n",
    "            verbose = 1\n",
    "        ),\n",
    "        callbacks.ModelCheckpoint(\n",
    "            filepath = model_path,\n",
    "            save_weights_only = False,\n",
    "            monitor = 'loss',\n",
    "            mode = 'min',\n",
    "            save_best_only = True\n",
    "        )\n",
    "    ]\n",
    ")"
   ]
  },
  {
   "cell_type": "code",
   "execution_count": 1,
   "metadata": {},
   "outputs": [],
   "source": [
    "import numpy as np\n",
    "from PIL import Image\n",
    "from tensorflow.keras.models import load_model\n",
    "from tensorflow.keras.preprocessing import image"
   ]
  },
  {
   "cell_type": "code",
   "execution_count": 5,
   "metadata": {},
   "outputs": [],
   "source": [
    "model = load_model(model_path)"
   ]
  },
  {
   "cell_type": "code",
   "execution_count": 4,
   "metadata": {},
   "outputs": [],
   "source": [
    "def load_img(img_path):\n",
    "    img = Image.open(img_path)\n",
    "    img_array = np.asarray(img)\n",
    "    return np.expand_dims(img_array, axis=0)"
   ]
  },
  {
   "cell_type": "code",
   "execution_count": 12,
   "metadata": {},
   "outputs": [
    {
     "name": "stdout",
     "output_type": "stream",
     "text": [
      "\u001b[1m1/1\u001b[0m \u001b[32m━━━━━━━━━━━━━━━━━━━━\u001b[0m\u001b[37m\u001b[0m \u001b[1m0s\u001b[0m 284ms/step\n",
      "0\n"
     ]
    },
    {
     "data": {
      "text/plain": [
       "'hammer'"
      ]
     },
     "execution_count": 12,
     "metadata": {},
     "output_type": "execute_result"
    }
   ],
   "source": [
    "# e = []\n",
    "# e.append(np.argmax(model.predict(load_img(\"data/hammer/000003.jpg\"))))\n",
    "# e.append(np.argmax(model.predict(load_img(\"data/nothing/nothing1.jpg\"))))\n",
    "# e.append(np.argmax(model.predict(load_img(\"data/Pliers/000000.jpg\"))))\n",
    "# e.append(np.argmax(model.predict(load_img(\"data/screwdriver/000000.jpg\"))))\n",
    "# e.append(np.argmax(model.predict(load_img(\"data/wrench/000000.jpg\"))))\n",
    "\n",
    "# print(e)\n",
    "response = ['hammer', 'nothing', 'pliers', 'screwdriver', 'wrench']\n",
    "\n",
    "res = np.argmax(model.predict(load_img(\"foto1.jpg\")))\n",
    "\n",
    "print(res)\n",
    "response[res]\n",
    "\n"
   ]
  },
  {
   "cell_type": "code",
   "execution_count": null,
   "metadata": {},
   "outputs": [
    {
     "name": "stdout",
     "output_type": "stream",
     "text": [
      "\u001b[1m1/1\u001b[0m \u001b[32m━━━━━━━━━━━━━━━━━━━━\u001b[0m\u001b[37m\u001b[0m \u001b[1m0s\u001b[0m 31ms/step\n",
      "1\n"
     ]
    }
   ],
   "source": [
    "import cv2;\n",
    "\n",
    "cam_port = 0\n",
    "cap = cv2.VideoCapture(cam_port)\n",
    "\n",
    "status, photo = cap.read()\n",
    "\n",
    "cap.release()\n",
    "\n",
    "# Display the captured photo in a window titled “My Photo”\n",
    "cv2.imshow(\"My Photo\", photo)\n",
    "\n",
    "photo_resized = cv2.resize(photo, (224, 224))\n",
    "photo_array = np.expand_dims(photo_resized, axis=0)\n",
    "\n",
    "res = np.argmax(model.predict(photo_array))\n",
    "\n",
    "response[res]\n",
    "\n",
    "\n",
    "\n",
    "# Wait for 5 seconds before closing the window\n",
    "cv2.waitKey(5000)\n",
    "\n",
    "# Close all OpenCV windows\n",
    "cv2.destroyAllWindows()\n"
   ]
  }
 ],
 "metadata": {
  "kernelspec": {
   "display_name": "Python 3",
   "language": "python",
   "name": "python3"
  },
  "language_info": {
   "codemirror_mode": {
    "name": "ipython",
    "version": 3
   },
   "file_extension": ".py",
   "mimetype": "text/x-python",
   "name": "python",
   "nbconvert_exporter": "python",
   "pygments_lexer": "ipython3",
   "version": "3.12.7"
  }
 },
 "nbformat": 4,
 "nbformat_minor": 2
}
